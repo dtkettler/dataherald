{
 "cells": [
  {
   "cell_type": "code",
   "execution_count": 1,
   "id": "6f555b73",
   "metadata": {},
   "outputs": [
    {
     "name": "stderr",
     "output_type": "stream",
     "text": [
      "22/04/07 16:55:26 WARN Utils: Your hostname, gosroth resolves to a loopback address: 127.0.1.1; using 192.168.1.242 instead (on interface enp4s0)\n",
      "22/04/07 16:55:26 WARN Utils: Set SPARK_LOCAL_IP if you need to bind to another address\n",
      "WARNING: An illegal reflective access operation has occurred\n",
      "WARNING: Illegal reflective access by org.apache.spark.unsafe.Platform (file:/home/david/.local/lib/python3.10/site-packages/pyspark/jars/spark-unsafe_2.12-3.2.1.jar) to constructor java.nio.DirectByteBuffer(long,int)\n",
      "WARNING: Please consider reporting this to the maintainers of org.apache.spark.unsafe.Platform\n",
      "WARNING: Use --illegal-access=warn to enable warnings of further illegal reflective access operations\n",
      "WARNING: All illegal access operations will be denied in a future release\n",
      "Using Spark's default log4j profile: org/apache/spark/log4j-defaults.properties\n",
      "Setting default log level to \"WARN\".\n",
      "To adjust logging level use sc.setLogLevel(newLevel). For SparkR, use setLogLevel(newLevel).\n",
      "22/04/07 16:55:26 WARN NativeCodeLoader: Unable to load native-hadoop library for your platform... using builtin-java classes where applicable\n",
      "22/04/07 16:55:27 WARN Utils: Service 'SparkUI' could not bind on port 4040. Attempting port 4041.\n"
     ]
    },
    {
     "name": "stdout",
     "output_type": "stream",
     "text": [
      "+-----+----+-----+------+\n",
      "|  zip|year|month| price|\n",
      "+-----+----+-----+------+\n",
      "|01001|2019|   10|2000.0|\n",
      "|01001|2019|   10|1100.0|\n",
      "|01001|2019|   10|1400.0|\n",
      "|01001|2019|   10|1600.0|\n",
      "|01001|2019|   10|1800.0|\n",
      "|01001|2019|   10|1300.0|\n",
      "|01001|2019|   10|1600.0|\n",
      "|01001|2019|   10|1635.0|\n",
      "|01001|2019|   10|1400.0|\n",
      "|01001|2019|   10|1365.0|\n",
      "+-----+----+-----+------+\n",
      "only showing top 10 rows\n",
      "\n"
     ]
    }
   ],
   "source": [
    "from pyspark.sql import SparkSession\n",
    "from pyspark.sql.functions import *\n",
    "import pandas as pd\n",
    "import datetime\n",
    "import matplotlib.pyplot as plt\n",
    "\n",
    "spark = SparkSession.builder.getOrCreate()\n",
    "\n",
    "df = spark.read.parquet(\"output_data.parquet\")\n",
    "df.show(10)"
   ]
  },
  {
   "cell_type": "code",
   "execution_count": 2,
   "id": "a6056eb4",
   "metadata": {},
   "outputs": [
    {
     "name": "stdout",
     "output_type": "stream",
     "text": [
      "+----+-----+------------------+------------------+-----------------+\n",
      "|year|month|         avg_price|         min_price|        max_price|\n",
      "+----+-----+------------------+------------------+-----------------+\n",
      "|2019|   10|2124.4169171304893|            1095.0|           4000.0|\n",
      "|2020|    6|1733.4948051948052|            1425.0|           2475.0|\n",
      "|2020|   11| 1659.901515151515|            1195.0|           3075.0|\n",
      "|2020|    3|2047.3647702991452|            1150.0|           7800.0|\n",
      "|2020|    9|1753.9816607997711|             895.0|           3600.0|\n",
      "|2019|    8|1757.7615881517002|            1230.0|           2600.0|\n",
      "|2019|    6|2007.0731950844852|            1095.0|           4800.0|\n",
      "|2020|   12|1729.8044477028348|            1095.0|           3075.0|\n",
      "|2020|    4|2094.0344246031746|            1250.0|           4950.0|\n",
      "|2021|    2| 1600.161544011544|1335.8333333333333|2152.909090909091|\n",
      "+----+-----+------------------+------------------+-----------------+\n",
      "only showing top 10 rows\n",
      "\n"
     ]
    }
   ],
   "source": [
    "# Pick a zip code to analyze\n",
    "zip = \"98125\"\n",
    "\n",
    "df = df.select(\"year\", \"month\", \"price\").where(col(\"zip\") == zip).groupBy(\"year\", \"month\").agg(avg(\"price\").alias(\"avg_price\"),\n",
    "                                                                                               min(\"price\").alias(\"min_price\"),\n",
    "                                                                                               max(\"price\").alias(\"max_price\"))\n",
    "df.show(10)"
   ]
  },
  {
   "cell_type": "code",
   "execution_count": 3,
   "id": "e7ca3cf1",
   "metadata": {},
   "outputs": [
    {
     "name": "stdout",
     "output_type": "stream",
     "text": [
      "    year  month    avg_price    min_price    max_price  day       date\n",
      "0   2019      6  2007.073195  1095.000000  4800.000000   15 2019-06-15\n",
      "1   2019      7  2152.185185  1195.000000  3995.000000   15 2019-07-15\n",
      "2   2019      8  1757.761588  1230.000000  2600.000000   15 2019-08-15\n",
      "3   2019      9  1865.822811  1095.000000  3500.000000   15 2019-09-15\n",
      "4   2019     10  2124.416917  1095.000000  4000.000000   15 2019-10-15\n",
      "5   2019     11  2061.660097  1160.000000  4900.000000   15 2019-11-15\n",
      "6   2019     12  2048.137383  1095.000000  3900.000000   15 2019-12-15\n",
      "7   2020      1  2250.751882  1295.000000  4750.000000   15 2020-01-15\n",
      "8   2020      2  1982.766624  1000.000000  6500.000000   15 2020-02-15\n",
      "9   2020      3  2047.364770  1150.000000  7800.000000   15 2020-03-15\n",
      "10  2020      4  2094.034425  1250.000000  4950.000000   15 2020-04-15\n",
      "11  2020      5  1743.870513  1195.000000  2475.000000   15 2020-05-15\n",
      "12  2020      6  1733.494805  1425.000000  2475.000000   15 2020-06-15\n",
      "13  2020      7  2013.312698  1295.000000  3895.000000   15 2020-07-15\n",
      "14  2020      8  1775.370322  1100.000000  3250.000000   15 2020-08-15\n",
      "15  2020      9  1753.981661   895.000000  3600.000000   15 2020-09-15\n",
      "16  2020     10  1710.531099   845.000000  3195.000000   15 2020-10-15\n",
      "17  2020     11  1659.901515  1195.000000  3075.000000   15 2020-11-15\n",
      "18  2020     12  1729.804448  1095.000000  3075.000000   15 2020-12-15\n",
      "19  2021      1  1580.967547  1050.000000  2133.705882   15 2021-01-15\n",
      "20  2021      2  1600.161544  1335.833333  2152.909091   15 2021-02-15\n"
     ]
    }
   ],
   "source": [
    "output = df.sort(\"year\", \"month\").toPandas()\n",
    "#output['date'] = output[['year', 'month']].apply(lambda x: '-'.join(x.values.astype(str)), axis=\"columns\")\n",
    "output['day'] = 15\n",
    "output['date'] = pd.to_datetime(output[['year', 'month', 'day']])\n",
    "print(output)"
   ]
  },
  {
   "cell_type": "code",
   "execution_count": 4,
   "id": "b5b8a981",
   "metadata": {},
   "outputs": [
    {
     "data": {
      "image/png": "[encoded data removed]",
      "text/plain": [
       "<Figure size 432x288 with 1 Axes>"
      ]
     },
     "metadata": {
      "needs_background": "light"
     },
     "output_type": "display_data"
    }
   ],
   "source": [
    "%matplotlib inline\n",
    "output.plot(x=\"date\", y=[\"avg_price\", \"min_price\", \"max_price\"])\n",
    "plt.show()"
   ]
  },
  {
   "cell_type": "code",
   "execution_count": null,
   "id": "f4fe3a28",
   "metadata": {},
   "outputs": [],
   "source": []
  }
 ],
 "metadata": {
  "kernelspec": {
   "display_name": "Python 3 (ipykernel)",
   "language": "python",
   "name": "python3"
  },
  "language_info": {
   "codemirror_mode": {
    "name": "ipython",
    "version": 3
   },
   "file_extension": ".py",
   "mimetype": "text/x-python",
   "name": "python",
   "nbconvert_exporter": "python",
   "pygments_lexer": "ipython3",
   "version": "3.10.2"
  }
 },
 "nbformat": 4,
 "nbformat_minor": 5
}
